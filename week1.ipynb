{
  "nbformat": 4,
  "nbformat_minor": 0,
  "metadata": {
    "colab": {
      "name": "week1.ipynb",
      "version": "0.3.2",
      "provenance": [],
      "collapsed_sections": [],
      "include_colab_link": true
    },
    "kernelspec": {
      "name": "python3",
      "display_name": "Python 3"
    }
  },
  "cells": [
    {
      "cell_type": "markdown",
      "metadata": {
        "id": "view-in-github",
        "colab_type": "text"
      },
      "source": [
        "<a href=\"https://colab.research.google.com/github/alexei-clay/SCEC_2019/blob/master/week1.ipynb\" target=\"_parent\"><img src=\"https://colab.research.google.com/assets/colab-badge.svg\" alt=\"Open In Colab\"/></a>"
      ]
    },
    {
      "cell_type": "markdown",
      "metadata": {
        "id": "W7TnEcj0gZNQ",
        "colab_type": "text"
      },
      "source": [
        "\n",
        "- [Google Colaboratory](https://colab.research.google.com/notebooks/welcome.ipynb)  \n",
        "- [Markdown Cheatsheat](https://github.com/adam-p/markdown-here/wiki/Markdown-Cheatsheet)\n",
        "- [Numpy Basics](https://docs.scipy.org/doc/numpy/user/quickstart.html)\n",
        "- [Pandas Tutorial](https://pandas.pydata.org/pandas-docs/stable/getting_started/tutorials.html)/[Pandas Documentation](http://pandas.pydata.org/pandas-docs/stable/)\n",
        "- [scikit-learn Documentation](https://scikit-learn.org/stable/)\n"
      ]
    },
    {
      "cell_type": "code",
      "metadata": {
        "id": "vB5ySShf1EOz",
        "colab_type": "code",
        "colab": {}
      },
      "source": [
        ""
      ],
      "execution_count": 0,
      "outputs": []
    },
    {
      "cell_type": "markdown",
      "metadata": {
        "id": "hT8bO3Ztkx96",
        "colab_type": "text"
      },
      "source": [
        ""
      ]
    },
    {
      "cell_type": "code",
      "metadata": {
        "id": "-8pSx4-kl0kz",
        "colab_type": "code",
        "outputId": "cd4811a3-e407-4672-b23a-e146aa7fd6cd",
        "colab": {
          "base_uri": "https://localhost:8080/",
          "height": 442
        }
      },
      "source": [
        "import numpy as np\n",
        "from numpy import pi\n",
        " \n",
        "# a) Add a constant to every number in the array \n",
        "arr = np.array([[1,2,3], [4,5,6], [7,8,9]])\n",
        "arr = arr + 1\n",
        "print (\"arr: \\n\", arr)\n",
        "\n",
        "# b) Multiply a constant to every number in the array\n",
        "arr = arr * 2\n",
        "print (\"arr * 2: \\n\", arr)\n",
        "\n",
        "# c) Create a second vector and subtract it from the first vector\n",
        "sec = np.array([[1,2,3], [4,5,6], [7,8,9]])\n",
        "arr = arr - sec\n",
        "print(\"Arr - sec: \\n\", arr)\n",
        "\n",
        "# d) Find the dot product of these two vectors\n",
        "res = np.dot(arr, sec)\n",
        "print(\"dot product is: \\n\", res)\n",
        "\n",
        "# e) Compute the outer product of these two vectors \n",
        "out = np.outer(arr, sec)\n",
        "print(\"outter: \\n\", out)\n",
        "\n",
        "# f) Stack the two vectors side by side to create a matrix.  \n",
        "\n"
      ],
      "execution_count": 0,
      "outputs": [
        {
          "output_type": "stream",
          "text": [
            "arr: \n",
            " [[ 2  3  4]\n",
            " [ 5  6  7]\n",
            " [ 8  9 10]]\n",
            "arr * 2: \n",
            " [[ 4  6  8]\n",
            " [10 12 14]\n",
            " [16 18 20]]\n",
            "Arr - sec: \n",
            " [[ 3  4  5]\n",
            " [ 6  7  8]\n",
            " [ 9 10 11]]\n",
            "dot product is: \n",
            " [[ 54  66  78]\n",
            " [ 90 111 132]\n",
            " [126 156 186]]\n",
            "outter:  [[ 3  6  9 12 15 18 21 24 27]\n",
            " [ 4  8 12 16 20 24 28 32 36]\n",
            " [ 5 10 15 20 25 30 35 40 45]\n",
            " [ 6 12 18 24 30 36 42 48 54]\n",
            " [ 7 14 21 28 35 42 49 56 63]\n",
            " [ 8 16 24 32 40 48 56 64 72]\n",
            " [ 9 18 27 36 45 54 63 72 81]\n",
            " [10 20 30 40 50 60 70 80 90]\n",
            " [11 22 33 44 55 66 77 88 99]]\n"
          ],
          "name": "stdout"
        }
      ]
    },
    {
      "cell_type": "markdown",
      "metadata": {
        "id": "nHGwNklrm-yn",
        "colab_type": "text"
      },
      "source": [
        ""
      ]
    },
    {
      "cell_type": "code",
      "metadata": {
        "id": "gv9wbFlXtZTo",
        "colab_type": "code",
        "outputId": "f51c5dd5-920d-4b25-b05b-82e9060131da",
        "colab": {
          "base_uri": "https://localhost:8080/",
          "height": 3400
        }
      },
      "source": [
        "import numpy as np\n",
        "\n",
        "# a) Create a vector with length 1000 that contains all zeros. \n",
        "v = np.zeros(10)\n",
        "np.zeros(10)\n",
        "print (\"a: \\n\", v)\n",
        " \n",
        "# Set the second half of the array equal to a constant\n",
        "v[5: 10] = 10\n",
        "print (\"Constant: \\n\", v)\n",
        "\n",
        "# b) Increasing monotonically by 1 each time.\n",
        "v = np.arange(0, 10, 1)\n",
        "print(\"mono increase by 1: \\n\", v)\n",
        "\n",
        "# c) using the vector you created in (b) set all the odd values eqaul to -1\n",
        "v = np.where(v % 2 == 1, -1, v)\n",
        "print(\"where: \", v)\n",
        "\n",
        "# d) Creat a random vector with length 1000 using numpy.randn()\n",
        "v = 5 * np.random.randn(1000) + 10\n",
        "print (\"random: \\n\", v, v.std())\n",
        "\n",
        "# e) Create a (1000, 1000) matrix using the same approach\n",
        "v = 5 * np.random.randn(1000, 1000) + 10\n",
        "print(\"e: \\n\\n\", v)\n",
        "\n",
        "# f) Create a new matrix such that any value greater than 12 or less than 8...\n",
        "res = np.where((v[:,:] >= 12) | (v[:,:] <= 8), 0, 1)\n",
        "print (\"f: \\n\\n\", res)\n",
        "\n"
      ],
      "execution_count": 0,
      "outputs": [
        {
          "output_type": "stream",
          "text": [
            "a: \n",
            " [0. 0. 0. 0. 0. 0. 0. 0. 0. 0.]\n",
            "Constant: \n",
            " [ 0.  0.  0.  0.  0. 10. 10. 10. 10. 10.]\n",
            "mono increase by 1: \n",
            " [0 1 2 3 4 5 6 7 8 9]\n",
            "where:  [ 0 -1  2 -1  4 -1  6 -1  8 -1]\n",
            "random: \n",
            " [ 5.61621409  7.97788632 12.90550711  6.04668698 11.90708664 13.04595428\n",
            " 11.86728967  6.35589877  4.2872458  13.1730442   9.1673392   6.76750253\n",
            " 11.10963272  7.77446774 17.19072756  3.53750294 19.35632483 16.61536697\n",
            " 11.71717443 14.18864674 15.31483326 16.4170698  14.76654362 14.17875177\n",
            " 11.63935544 11.14751344  0.88491402 17.97260468  8.54926126 12.08071462\n",
            "  8.18310097 17.56848693  4.38381127 14.73559167  9.15363799 11.84681735\n",
            "  9.43676628  8.88962574 18.3918343  11.87986996 11.92945797  8.89358804\n",
            " 10.77285839 10.7217737   9.69845802 11.4559313  13.56609352  7.55300603\n",
            "  4.33892849  0.57721496  9.30241145 11.62668271  7.40446697  3.30792508\n",
            "  7.85803447 12.73173469 19.29695416 18.83173935  6.23307831  0.86178687\n",
            " 10.137059   10.88325776  1.5574202   0.72281874 11.67854311  5.44584025\n",
            " 10.7906769   8.57981839 14.33885972 10.41325686  5.78148979 11.06189495\n",
            "  8.41321418 11.66156571  9.43191747  6.11546296 16.17232496 14.84823163\n",
            "  5.73060389  2.89058486  9.60045561  6.79634599 13.01881502 14.50502499\n",
            " 12.66146355  7.70432417 14.21321313 13.02569108  6.39845562 15.97073205\n",
            "  4.53161777  6.27180634 15.64776595 11.41914231 14.03958109 -0.12961894\n",
            " 11.72393349 14.98167579 11.5011116  19.78563783 14.37489471 10.26116546\n",
            "  5.15015884 15.66441837 16.01748965 13.08706404  4.91887218 13.12587115\n",
            " 20.44457699  5.63227899 10.68421213 14.84086092  8.17468617  9.33085237\n",
            "  5.87139544 10.34391537  5.30933288  8.23530395 -4.93768991  8.92457723\n",
            "  7.98950344 10.70590855  8.2668656   9.53558161 15.14059135  7.27124448\n",
            "  5.74088921  9.4662006  11.54256537  5.4152453  11.68047208 14.61002601\n",
            "  6.35306836 12.26684235  0.82526173 14.00297882 13.7196072   9.90399636\n",
            "  6.92706438 13.04739505  9.85258993 13.02754416  8.72860037  5.97534521\n",
            "  8.15127374 10.40328385 15.47351442  9.91606926 10.2478319  15.9605765\n",
            "  5.99851835  1.27538004  3.42361498 15.58274593  7.58579525 10.70797855\n",
            "  9.97304643 12.61609291 23.17273959 11.8741745  13.26169679  8.09682051\n",
            " 12.00268648 15.86329031  2.83298978 11.06600397  7.61424288 13.32063675\n",
            " 11.22094507  3.12243399  7.96975408  7.37448461  7.79533565  8.05604607\n",
            "  9.79333436  5.78792672  3.40300662 16.79536811 11.2046989  11.1812484\n",
            " 10.67834948 -1.4763602   6.19280586  3.93522721 15.32305694  8.53870699\n",
            "  7.53086756 10.82486455  6.63888447 16.28240628  1.27639806 10.93258595\n",
            " 21.06358805  9.59629048  3.3432072   5.65130458 13.51254508  3.67734661\n",
            "  9.96046287 13.94256387 11.15210178 12.7168559  -0.42773033  6.29220246\n",
            " 10.55176378 13.88919996 10.09343389 15.37078094  2.46937583  4.30219117\n",
            "  7.20615813 11.93050393  4.96437823 13.90146206  2.51409313 17.09649255\n",
            "  9.814234   18.04931055  3.85775977  2.05779769 11.29705784 12.86473126\n",
            " 15.56583593 13.2194073   9.15615137  7.14475094 15.36244738 13.45750046\n",
            " 23.22941308 12.89536467  6.94230934 11.11533962  1.45016208 16.68882544\n",
            "  6.72854882  2.95019407  8.69613084 12.83615999  9.30430026  8.93490832\n",
            "  1.27588985  2.0265454  10.21298972  6.86136308 11.99873341 20.13696942\n",
            "  3.62293057 10.6834997   4.57612998 11.76191606 15.27653998  4.76666965\n",
            "  8.43165733 16.01027034 12.55363594 11.53303302  5.57654926 12.04020469\n",
            "  8.03092889  7.68798035 11.52357702  4.25358535  9.20973238  7.51231037\n",
            "  9.48539085  8.74072128 -0.46182763 15.13479002  5.76922306  2.26523823\n",
            " 11.41885687 15.29895914  2.07333799  6.98300213  9.53767409 13.15638532\n",
            "  6.9418518  14.55695829 14.62154148  9.90892715 15.7213987   4.3651133\n",
            " 10.31865863 16.99890039 12.33293537  6.15818578 15.35523069 20.03506465\n",
            "  9.44595751  8.76255808 10.36822761  7.72370696  3.64787758  6.17336616\n",
            "  5.57796931 11.12190986 14.46538689  9.76809202 15.37471944  9.0948398\n",
            " 16.81620216 12.76220982 14.08543929 14.95477364 11.6467511  13.08991648\n",
            " 17.71014257 16.59059608  4.31007707  9.85501825 12.10538757  7.29515304\n",
            " 14.2498945  13.15350918  9.15312107  9.78051947  3.85322481 14.86227842\n",
            "  3.27989362 10.17789237 11.22816685 12.07157999 13.79947151 14.76749247\n",
            " 12.73761498  5.29122072 -0.12111275  1.71338648  7.63827333 16.71479542\n",
            "  7.82908406 11.39259067  6.00132885  3.5131186  11.35326347 15.68845687\n",
            " 14.17637839  6.94392795  7.07388549 12.46897017 13.42528024 14.88735075\n",
            " 15.1020865   7.8452629   3.06908653 18.82277446 14.93063932 17.30316629\n",
            " 11.96987085  9.59259472 14.13602422  8.93165356  6.82365898 22.51446447\n",
            "  9.41322763 15.51652413  4.97136529  7.94139382 14.81610532  5.8463381\n",
            "  6.89353223 10.23953775  8.95184147 11.96770812 10.54018005  1.57274733\n",
            " 10.12465194  4.57323578  6.97830215  5.07062241 10.89441136 18.16563562\n",
            "  3.97960825  4.90349072  4.8268239  13.9567454  11.97696418 12.97523096\n",
            " 10.76571658 11.93818016 12.3478721   6.93223127 11.58343693 14.239787\n",
            "  9.40395418  5.76284231  3.21808936  6.72425248  9.43139179 20.90844362\n",
            "  2.01558984 12.45585476  5.06776994  5.9461644   5.64789662 11.75211365\n",
            "  5.92778653  9.0392737   9.09701354  5.39224287 15.33357397  8.89908362\n",
            " 17.98992956  7.4883482   9.47917429  5.83956335 15.29688747  9.28122548\n",
            " 12.62647869 13.79098578 11.22125461  7.51288967  9.53547033 13.45284154\n",
            " 15.47295551  5.04259839 14.44971111  8.24386505 17.20540812 10.44571268\n",
            " 13.30831987 20.06695849 13.73726692  1.56725273  8.68425572  8.41486759\n",
            "  7.30266393  8.90409057  9.84882021  8.73326094  1.68936003 13.94365625\n",
            "  7.70161477 10.87173549 12.53505061 12.04877859 19.65008105 11.23328064\n",
            " 10.95948329  6.3459873   9.43257084 13.01566636  2.38204118 10.52019188\n",
            " 13.82039327  7.94181962  9.68131768 12.24221261  4.21300561  5.31697346\n",
            "  6.60613619 21.23412833  7.21723222 16.4916691   4.74791779  5.07919024\n",
            "  6.29101679 20.42766159  3.85549855  2.94739199 14.68706802  2.50450561\n",
            " 19.3028415  12.78038176 19.92051231  0.54878456 18.34499013 14.56639332\n",
            "  5.0710143  12.15582204 12.86732308  3.50533153  4.58807127  8.2544829\n",
            " 10.0278072   9.65175473  7.41396236 14.95403905 -0.29375579 10.39371411\n",
            " 12.65014519  6.94747874 11.08969407  1.44536488 12.16590626  7.56449765\n",
            " 12.49620647  9.04486254 10.8863732  13.08546699 13.07897838 10.22972895\n",
            " 15.66367259 18.84854137 13.6496067   8.11343747 16.78353288  5.7711266\n",
            "  6.75762051  2.63823481 12.35484135 13.04031349 10.37306851  8.50619947\n",
            " 20.69282614 11.37088028 12.57854276  4.85630873 12.09191725 10.92951806\n",
            " 14.9227776   8.53753847 14.74275124 10.4595232  11.94768246  1.00824879\n",
            "  0.82371983 15.34592689 14.05088503  8.12693436  5.05822426 10.94600829\n",
            " 19.95144057  4.13006669  1.76459389  2.77779768 16.42910286 19.89922656\n",
            " 14.25892063  4.59010558  7.13432059 15.59392481 11.72805684 15.64063779\n",
            " 13.55440224 14.68446628 10.24974486 11.49121307  4.53473663  8.00904475\n",
            " 18.27599787 10.35922305 12.80265882  5.06057421 11.96439504  8.70119969\n",
            " 13.36439942 14.78696807 10.15960466  6.22631906 15.51999821  5.85542364\n",
            "  4.31278776  9.25631063 12.08461309 14.50825028 19.26409779 15.31892457\n",
            "  5.19182829  5.13716756 14.64618138 14.44878024  7.53665251 10.86532325\n",
            "  8.77487955  8.26335012  7.93920236 12.35854034 10.91012939  3.88037604\n",
            "  6.7610469   5.52029385  4.42451355  8.61087622 -5.98431756  6.4304069\n",
            " 14.7413439  12.33713377 14.43703276 14.81311874  9.81498017 11.35260169\n",
            "  4.31705911  7.15824136 17.7335978  10.76502289 -7.99851678 10.68054123\n",
            " 15.28651387 10.73632718 14.26685025 19.59273984 14.14417728 11.76173957\n",
            " 10.91580297  9.92298628  8.1321932  21.20220605 15.88058715 14.13627091\n",
            "  0.49369251  0.11781507 14.5970621  14.63877283 14.23090211  5.94813068\n",
            "  8.79546422  4.71676599  7.73762576 10.05405678 10.72270151 10.87728964\n",
            " 12.03646438  5.51936034  8.35065532  2.65611935  3.38872629 10.86186762\n",
            " 10.29454161 -0.48749214 11.62242947 12.81159948  9.41179908 15.62237766\n",
            "  7.39796959 10.48803419  1.47760511  8.55017077  6.16157208 13.82135122\n",
            " 12.78144194 13.80090264  8.85043478 11.6743517  15.05419381  3.16386854\n",
            " -3.6044479   7.03100181 13.797192   10.39544083 13.22597755 12.19630125\n",
            " 11.89814989  7.22368795 13.57165542 22.78031441  1.27590119 11.2946523\n",
            " 11.06877162  3.91640154  8.98334703  7.46073894  8.43024682  6.1950783\n",
            " 11.91205796  6.90099325  8.60361914  6.0045924   7.22331061  7.98368505\n",
            " 11.28644474  9.63322715  5.61268434 13.6613085  11.20954875  7.61577661\n",
            "  7.24769738  9.79632395 15.96884278 16.42855227  9.49094467 13.15829222\n",
            " 15.02854939 11.83793176  7.3669669   6.97394387  3.68305481 10.24232973\n",
            " -0.33605407 11.46214598 10.76793207  3.74220973  9.05605536 10.06283341\n",
            "  5.54749643 -1.27488892 14.9718936   4.49710571 10.11854718  8.55773597\n",
            "  9.63403217 15.29749179  5.04109024 18.12184204  9.93874781  6.27116139\n",
            "  6.25832033 10.30452435 17.5625296  14.27414427  7.36086804 17.97451938\n",
            "  8.19197731 13.5621132  10.42574765  8.46722146 11.39656242  8.30993012\n",
            " 10.53575029  8.02834526 15.89451773  7.96829007  8.12711217  8.39891879\n",
            "  9.87061591  5.15069886 11.81238691  6.54167351  7.29913955  0.23676058\n",
            "  0.06065626  4.10656456 12.39609862 10.74658698 15.3094124   7.5060206\n",
            " 12.24386262  1.91579461  5.86326119 15.64135894 10.89180773 11.86344969\n",
            "  9.66683066  5.41287134 14.26209955  9.73332148  3.17085135  9.17322158\n",
            " 12.25164867 10.10443215  5.51010083 11.52799705  7.24662492 12.76698032\n",
            "  9.73188963  9.36311297 14.07557147  7.98583424 16.16174817 12.49169006\n",
            "  9.89199219  2.01947674  6.73001048  7.98406429  0.76440007 10.98203388\n",
            "  8.29941606 13.27586746 11.66671388 14.47440035 14.88676334  4.14104879\n",
            " 11.91718899 11.13967864 16.75980639  1.05634734 10.77006173  7.14417458\n",
            " 13.93771244 11.18332042 18.4988966  10.15497295  3.39092008  9.26911172\n",
            "  6.93734322  6.60722996 13.53432438  2.07879673  4.73602943 13.65687204\n",
            " 19.41873375 17.44692217  1.71415588 12.43568948 11.21603058  6.51592678\n",
            "  7.20411343  8.36802214 -2.59400504 -0.62669596  8.97956149 10.54854153\n",
            "  2.31322128  8.05083744 -0.2565852  13.4384572   3.03884119 10.06254082\n",
            " 13.43640272  8.2954684  17.80754298  1.88526954  7.18691965 14.91448081\n",
            "  6.70936448  5.13284598 12.04558191 10.25292584 11.96324102 12.3636953\n",
            " 17.52900697 16.16454703 11.92186524  5.62893526 21.09587691 20.04776088\n",
            "  5.64488028  4.98124638 15.46768904  5.93073579 17.20882493  6.44641191\n",
            " 13.50283468 14.03420873 14.82024275  1.05334964 11.34719424  3.26897459\n",
            "  0.94955595  6.38383602 14.65681757 14.7233191   9.93587842  9.74032831\n",
            "  8.87759522  7.60680201  8.95628402 16.04789008  8.73999627  6.67500165\n",
            " 13.10948948  7.29797397 10.27500807 11.27701164 17.4920215   7.22673631\n",
            "  8.79720724 23.84988418  9.02314355  9.23522876 14.01240002 13.90530317\n",
            "  7.42700297 16.64961752  7.92328596 15.74908472 14.47696178 14.00510585\n",
            " 12.94999551  8.00361509  9.62878599 -1.71018712  0.91328441 13.4008157\n",
            " 12.80164388 17.69027099 11.31927614 21.25311794 11.55290811  4.82069987\n",
            "  5.76457762 18.31285802 22.86366165 14.4002666  12.51267261 11.97016336\n",
            " 14.55460925  5.05707243 11.47160507 17.27022895 17.45338362  6.42824409\n",
            " 13.99198511  6.93581694 11.1905361  10.95730036 11.05791636  6.99800907\n",
            " 11.56563508 13.38600473  3.9456992   9.75115756  7.07380274  7.3086979\n",
            " 11.57479674  3.948965    8.20561515 11.1140839   8.38789912 13.86821581\n",
            " 13.61596897  5.58305453 16.14991846  6.36388873  2.75746005  0.74105069\n",
            "  5.61032368 13.38481639 14.49115068 -0.43681525  9.69656613  9.29430701\n",
            " 18.14317038 14.32669756 14.5034853   6.96521421 12.94691376 17.96836401\n",
            " 11.38986333  3.36636485 12.09082736 14.60871627 16.23555667 18.44825628\n",
            " 15.54824981 13.88504656 10.65128791 12.85235588 17.76287969 12.27839774\n",
            "  2.49857257  9.45564233  6.65071596  3.07796326 14.1535541  10.59571234\n",
            " 16.28001582  6.91172304 11.26746307 10.49594662 12.42176053 14.60180096\n",
            " 15.24646627  9.90597736  7.77131844 12.65661615  3.38883692 -0.94019102\n",
            "  8.31333399  9.20543581  5.28581991 15.26389875 10.43505514 11.6211487\n",
            "  8.84026218  7.71630782  9.25588274  5.99311752 11.84297409  5.28552396\n",
            "  7.90320302  9.39751256  5.4694979  14.86165485  8.41558122  9.52679958\n",
            "  8.6227196   1.36395233  3.20021921 15.66658466  1.6205329  11.07757345\n",
            " -0.62333247 12.9860274  14.89737137 23.33573376 16.23432329 15.13080934\n",
            " 12.97330878 13.39805356  7.84051722 16.79681227  8.22054027 11.47126286\n",
            " 10.34189259 12.87251022  8.89696029 14.89302318 12.51498731  3.28595866\n",
            " 14.55551117  5.62644364 16.36019903 13.84266991 12.3797047   5.27796839\n",
            "  5.04678604  2.65435069 16.62305331 25.33386465] 4.863517679566576\n",
            "e: \n",
            "\n",
            " [[26.96905713  8.38822949 10.07266849 ...  4.69431865 13.7404895\n",
            "   2.34371503]\n",
            " [16.04858107  8.96814366  5.93930072 ... 12.9407155  10.96518482\n",
            "  12.34008765]\n",
            " [13.88260104  7.05630203  8.33929793 ... 19.40771593 15.39847953\n",
            "   3.46627109]\n",
            " ...\n",
            " [ 5.38554012 15.09577032 12.19287295 ...  3.11098286 18.50934705\n",
            "   7.51915755]\n",
            " [ 1.15659138  4.51833624  5.48483332 ...  7.15128879  4.14601009\n",
            "   9.63364926]\n",
            " [16.25561846  3.673074   14.86641133 ... 15.3751005   6.71611644\n",
            "   9.32963665]]\n",
            "f: \n",
            "\n",
            " [[0 1 1 ... 0 0 0]\n",
            " [0 1 0 ... 0 1 0]\n",
            " [0 0 1 ... 0 0 0]\n",
            " ...\n",
            " [0 0 0 ... 0 0 0]\n",
            " [0 0 0 ... 0 0 1]\n",
            " [0 0 0 ... 0 0 1]]\n"
          ],
          "name": "stdout"
        }
      ]
    },
    {
      "cell_type": "markdown",
      "metadata": {
        "id": "QSl2PqZBtet0",
        "colab_type": "text"
      },
      "source": [
        ""
      ]
    },
    {
      "cell_type": "code",
      "metadata": {
        "id": "hO5jPbjQ0KCT",
        "colab_type": "code",
        "outputId": "ca2a5751-6aa4-47c0-ae9b-821c08f91b93",
        "colab": {
          "base_uri": "https://localhost:8080/",
          "height": 283
        }
      },
      "source": [
        "# you can implement your solutions to the problem here. \n",
        "# code that you have ran previously will be stored in the kernel. you can reference variables from previous cells in this one.\n",
        "\n",
        "\n",
        "import matplotlib.pyplot as plt\n",
        "\n",
        "# a)\n",
        "evelyn = res[:5, :5]\n",
        "\n",
        "for i, e in enumerate(evelyn): \n",
        "  plt.plot(e, label = \"row \" + str(i), linestyle = '--')\n",
        " \n",
        "\n",
        "# b)\n",
        "plt.xlabel('Between the two')\n",
        "plt.ylabel('Greater than 12 less than 8')\n",
        "\n",
        "# c) Give each of the lines a unique subtitle\n",
        "plt.legend(bbox_to_anchor=(1.05, 1), loc=2, borderaxespad=0.)\n",
        "\n",
        "# d) done - see above - changed from solid to dotted lines\n",
        "\n",
        "# e) \n",
        "plt.text(5, .30, r'ML TEAM : Alexei', {'color': 'r', 'fontsize': 20})\n",
        "plt.text(5, .18, r'WEEK 1', {'color': 'b', 'fontsize': 20})\n",
        "\n",
        "plt.show()"
      ],
      "execution_count": 0,
      "outputs": [
        {
          "output_type": "display_data",
          "data": {
            "image/png": "[encoded data removed]",
            "text/plain": [
              "<Figure size 432x288 with 1 Axes>"
            ]
          },
          "metadata": {
            "tags": []
          }
        }
      ]
    },
    {
      "cell_type": "markdown",
      "metadata": {
        "id": "_1yENGM10XwF",
        "colab_type": "text"
      },
      "source": [
        ""
      ]
    },
    {
      "cell_type": "code",
      "metadata": {
        "id": "0FADtW1JPG69",
        "colab_type": "code",
        "outputId": "598fc422-edb1-40dd-a894-b9678dfb112e",
        "colab": {
          "base_uri": "https://localhost:8080/",
          "height": 303
        }
      },
      "source": [
        "# you can implement your solutions to the problem here.\n",
        "\n",
        "import pandas as pd\n",
        "import numpy as np\n",
        "import io\n",
        "\n",
        "url = \"https://gist.githubusercontent.com/omijn/5414598ef38c21337b8c38858c9112a4/raw/f8e7ced36221dee7fc32ddb1bbd3fea1f23081ca/housing.csv\"\n",
        "data = pd.read_csv(url)\n",
        "# a) b) c)\n",
        "data = pd.read_csv(io.BytesIO(uploaded['housing.csv']))\n",
        "\n",
        "area = data.Area\n",
        "bdr = data.Bedrooms\n",
        "\n",
        "plt.plot(data[\"Area\"])\n",
        "plt.plot(data[\"Bedrooms\"])\n",
        "\n",
        "# d) \n",
        "xDataFrame = pd.DataFrame(data[\"Area\"])\n",
        "xDataFrame[\"Bedrooms\"] = data[\"Bedrooms\"]\n",
        "# e) \n",
        "y = data[\"Price\"]\n",
        "yDataFrame = pd.DataFrame(data[\"Price\"])\n",
        "\n",
        "# f) \n",
        "arr = xDataFrame.values\n",
        "print(type(arr))\n",
        "arr2 = yDataFrame.values\n",
        "print(type(arr2))\n"
      ],
      "execution_count": 0,
      "outputs": [
        {
          "output_type": "stream",
          "text": [
            "<class 'numpy.ndarray'>\n",
            "<class 'numpy.ndarray'>\n"
          ],
          "name": "stdout"
        },
        {
          "output_type": "display_data",
          "data": {
            "image/png": "[encoded data removed]",
            "text/plain": [
              "<Figure size 432x288 with 1 Axes>"
            ]
          },
          "metadata": {
            "tags": []
          }
        }
      ]
    },
    {
      "cell_type": "markdown",
      "metadata": {
        "id": "aGxSCjwxPOxZ",
        "colab_type": "text"
      },
      "source": [
        "## Scikit-learn \n",
        "\n"
      ]
    },
    {
      "cell_type": "markdown",
      "metadata": {
        "id": "o2Q7v7MhSjS3",
        "colab_type": "text"
      },
      "source": [
        ""
      ]
    },
    {
      "cell_type": "code",
      "metadata": {
        "id": "AJc30xBoScYL",
        "colab_type": "code",
        "outputId": "9108ef16-8080-454d-bacf-d648bebd913a",
        "colab": {
          "base_uri": "https://localhost:8080/",
          "height": 663
        }
      },
      "source": [
        "from sklearn.linear_model import LinearRegression\n",
        "from sklearn.model_selection import train_test_split\n",
        "from sklearn import datasets, linear_model\n",
        "from sklearn.metrics import mean_squared_error, r2_score\n",
        "\n",
        "X_train, X_test, y_train, y_test = train_test_split(arr, arr2, test_size=0.8, random_state=42)\n",
        "\n",
        "# X_train, X_validation, y_train, y_validation = train_test_split(X_train, y_train, test_size=0.8, random_state=42) \n",
        "\n",
        "# Create linear regression object\n",
        "regr = linear_model.LinearRegression()\n",
        "\n",
        "# Train the model using the training sets\n",
        "regr.fit(X_train, y_train)\n",
        "\n",
        "# Make predictions using the testing set\n",
        "area_pred = regr.predict(X_test)\n",
        "print(area_pred)"
      ],
      "execution_count": 0,
      "outputs": [
        {
          "output_type": "stream",
          "text": [
            "[[396961.39140088]\n",
            " [333002.50096024]\n",
            " [263143.19831193]\n",
            " [230816.33144213]\n",
            " [567867.77283658]\n",
            " [235702.95085268]\n",
            " [317271.90562881]\n",
            " [441886.40526201]\n",
            " [438002.16932029]\n",
            " [218286.53808174]\n",
            " [253369.95949083]\n",
            " [276231.1277094 ]\n",
            " [272665.84126583]\n",
            " [307305.01524317]\n",
            " [473518.42883286]\n",
            " [604842.07257801]\n",
            " [235327.05705187]\n",
            " [205563.09315681]\n",
            " [350293.61579757]\n",
            " [267653.92392167]\n",
            " [264202.52608343]\n",
            " [410869.46203092]\n",
            " [317716.15306056]\n",
            " [294160.14154303]\n",
            " [344085.66342004]\n",
            " [242457.62993902]\n",
            " [329232.15362385]\n",
            " [310824.76671235]\n",
            " [331054.67832524]\n",
            " [289022.92626527]\n",
            " [280935.50488368]\n",
            " [360875.58652296]\n",
            " [335371.75237044]\n",
            " [381173.85176679]\n",
            " [260511.94170625]\n",
            " [307942.91423946]\n",
            " [329243.56295212]\n",
            " [305186.35970017]]\n"
          ],
          "name": "stdout"
        }
      ]
    },
    {
      "cell_type": "code",
      "metadata": {
        "id": "fp45l7DkogfO",
        "colab_type": "code",
        "outputId": "d322f4a2-c915-4631-f04c-2de941498682",
        "colab": {
          "base_uri": "https://localhost:8080/",
          "height": 34
        }
      },
      "source": [
        "a= [[3000, 2]]\n",
        "print(regr.predict(a))"
      ],
      "execution_count": 0,
      "outputs": [
        {
          "output_type": "stream",
          "text": [
            "[[474703.05453796]]\n"
          ],
          "name": "stdout"
        }
      ]
    },
    {
      "cell_type": "code",
      "metadata": {
        "id": "zkec9wjE75n4",
        "colab_type": "code",
        "outputId": "fbe261b8-dfba-4e51-978d-0f9e8696d996",
        "colab": {
          "base_uri": "https://localhost:8080/",
          "height": 34
        }
      },
      "source": [
        "print(regr.predict([[5000, 4]]))"
      ],
      "execution_count": 0,
      "outputs": [
        {
          "output_type": "stream",
          "text": [
            "[[688598.03652807]]\n"
          ],
          "name": "stdout"
        }
      ]
    },
    {
      "cell_type": "code",
      "metadata": {
        "id": "9R1qR_EF-OBT",
        "colab_type": "code",
        "outputId": "e8b8dc3b-bef8-476c-c5ad-8322606af239",
        "colab": {
          "base_uri": "https://localhost:8080/",
          "height": 34
        }
      },
      "source": [
        "from sklearn.metrics import explained_variance_score\n",
        "\n",
        "explained_variance_score(y_test, area_pred)"
      ],
      "execution_count": 0,
      "outputs": [
        {
          "output_type": "execute_result",
          "data": {
            "text/plain": [
              "0.7202283656277717"
            ]
          },
          "metadata": {
            "tags": []
          },
          "execution_count": 239
        }
      ]
    },
    {
      "cell_type": "code",
      "metadata": {
        "id": "CBGufuuA_rxS",
        "colab_type": "code",
        "colab": {}
      },
      "source": [
        ""
      ],
      "execution_count": 0,
      "outputs": []
    },
    {
      "cell_type": "markdown",
      "metadata": {
        "id": "L3spdSMO1dVo",
        "colab_type": "text"
      },
      "source": [
        ""
      ]
    }
  ]
}