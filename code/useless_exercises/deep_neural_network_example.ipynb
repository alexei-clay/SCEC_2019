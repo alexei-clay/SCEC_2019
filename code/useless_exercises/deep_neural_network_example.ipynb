{
  "nbformat": 4,
  "nbformat_minor": 0,
  "metadata": {
    "colab": {
      "name": "deep_neural_network_example.ipynb",
      "version": "0.3.2",
      "provenance": [],
      "toc_visible": true
    },
    "kernelspec": {
      "name": "python3",
      "display_name": "Python 3"
    }
  },
  "cells": [
    {
      "cell_type": "markdown",
      "metadata": {
        "id": "uhcslnoWtFhK",
        "colab_type": "text"
      },
      "source": [
        "### Source: \n",
        "\n",
        "\n",
        "### The MNIST dataset\n",
        "The MNIST dataset is available at http://yann.lecun.com/exdb/mnist/ and consists of the following four parts:\n",
        "\n",
        "* Training set images: train-images-idx3-ubyte.gz (9.9 MB, 47 MB unzipped, 60,000 samples)\n",
        "* Training set labels: train-labels-idx1-ubyte.gz (29 KB, 60 KB unzipped, 60,000 labels)\n",
        "* Test set images: t10k-images-idx3-ubyte.gz (1.6 MB, 7.8 MB, 10,000 samples)\n",
        "* Test set labels: t10k-labels-idx1-ubyte.gz (5 KB, 10 KB unzipped, 10,000 labels)\n",
        "* In this section, we will only be working with a subset of MNIST, thus, we only need to download the training set images and training set labels.\n",
        "\n",
        "After downloading the files, simply run the next code cell to unzip the files.\n",
        "\n"
      ]
    },
    {
      "cell_type": "code",
      "metadata": {
        "id": "QUKFagyitVuf",
        "colab_type": "code",
        "colab": {}
      },
      "source": [
        "# this code cell unzips mnist\n",
        "\n",
        "import sys\n",
        "import gzip\n",
        "import shutil\n",
        "import os\n",
        "\n",
        "if (sys.version_info > (3, 0)):\n",
        "    writemode = 'wb'\n",
        "else:\n",
        "    writemode = 'w'\n",
        "\n",
        "zipped_mnist = [f for f in os.listdir('./') if f.endswith('ubyte.gz')]\n",
        "for z in zipped_mnist:\n",
        "    with gzip.GzipFile(z, mode='rb') as decompressed, open(z[:-3], writemode) as outfile:\n",
        "        outfile.write(decompressed.read())"
      ],
      "execution_count": 0,
      "outputs": []
    },
    {
      "cell_type": "code",
      "metadata": {
        "id": "vH6dal35tyze",
        "colab_type": "code",
        "colab": {}
      },
      "source": [
        "import os\n",
        "import struct\n",
        "import numpy as np\n",
        " \n",
        "def load_mnist(path, kind='train'):\n",
        "    \"\"\"Load MNIST data from `path`\"\"\"\n",
        "    labels_path = os.path.join(path, \n",
        "                               '%s-labels-idx1-ubyte' % kind)\n",
        "    images_path = os.path.join(path, \n",
        "                               '%s-images-idx3-ubyte' % kind)\n",
        "        \n",
        "    with open(labels_path, 'rb') as lbpath:\n",
        "        magic, n = struct.unpack('>II', \n",
        "                                 lbpath.read(8))\n",
        "        labels = np.fromfile(lbpath, \n",
        "                             dtype=np.uint8)\n",
        "\n",
        "    with open(images_path, 'rb') as imgpath:\n",
        "        magic, num, rows, cols = struct.unpack(\">IIII\", \n",
        "                                               imgpath.read(16))\n",
        "        images = np.fromfile(imgpath, \n",
        "                             dtype=np.uint8).reshape(len(labels), 784)\n",
        "        images = ((images / 255.) - .5) * 2\n",
        " \n",
        "    return images, labels"
      ],
      "execution_count": 0,
      "outputs": []
    },
    {
      "cell_type": "code",
      "metadata": {
        "id": "gpAkN1kjt3ti",
        "colab_type": "code",
        "outputId": "09c76cfd-15a4-49b9-9575-d022d0333dd9",
        "colab": {
          "base_uri": "https://localhost:8080/",
          "height": 51
        }
      },
      "source": [
        "!ls # Output contents of directory"
      ],
      "execution_count": 0,
      "outputs": [
        {
          "output_type": "stream",
          "text": [
            "sample_data\t\tt10k-labels-idx1-ubyte\t train-labels-idx1-ubyte\n",
            "t10k-images-idx3-ubyte\ttrain-images-idx3-ubyte\n"
          ],
          "name": "stdout"
        }
      ]
    },
    {
      "cell_type": "markdown",
      "metadata": {
        "id": "VB4ims9nz3xM",
        "colab_type": "text"
      },
      "source": [
        "### Side topic about reshape\n",
        "\n",
        "numpy.reshape(a, newshape, order='C')\n",
        "\n",
        "* Gives a new shape to an array without changing its data.\n",
        "\n",
        "Parameters:\t\n",
        "* a : array_like\n",
        "Array to be reshaped.\n",
        "\n",
        "* newshape : int or tuple of ints\n",
        "The new shape should be compatible with the original shape. If an integer, then the result will be a 1-D array of that length. One shape dimension can be -1. In this case, the value is inferred from the length of the array and remaining dimensions.\n",
        "\n",
        "* order : {‘C’, ‘F’, ‘A’}, optional\n",
        "Read the elements of a using this index order, and place the elements into the reshaped array using this index order. ‘C’ means to read / write the elements using C-like index order, with the last axis index changing fastest, back to the first axis index changing slowest. ‘F’ means to read / write the elements using Fortran-like index order, with the first index changing fastest, and the last index changing slowest. Note that the ‘C’ and ‘F’ options take no account of the memory layout of the underlying array, and only refer to the order of indexing. ‘A’ means to read / write the elements in Fortran-like index order if a is Fortran contiguous in memory, C-like order otherwise.\n",
        "\n",
        "* Returns:\t\n",
        "reshaped_array : ndarray\n",
        "This will be a new view object if possible; otherwise, it will be a copy. Note there is no guarantee of the memory layout (C- or Fortran- contiguous) of the returned array.\n"
      ]
    },
    {
      "cell_type": "code",
      "metadata": {
        "id": "X3Kde_FI0h48",
        "colab_type": "code",
        "outputId": "30846b54-b3de-42ee-81b4-abef2eda41f4",
        "colab": {
          "base_uri": "https://localhost:8080/",
          "height": 323
        }
      },
      "source": [
        "a = np.arange(10)\n",
        "print('pre-reshape: ', a)\n",
        "\n",
        "a = np.arange(10).reshape((5,2))\n",
        "print('post-reshape: \\n', a)\n",
        "\n",
        "a = np.arange(20).reshape(5,4)\n",
        "print('p: ', a)\n",
        "\n",
        "a = np.array([[2, 4, 5], [99, 109, 23]])\n",
        "print('pre: ', a)\n",
        "\n",
        "a = np.reshape(a, (3,2))\n",
        "print('post: ', a)\n",
        "\n",
        "a = np.reshape(a, 6)\n",
        "print('post: ', a)"
      ],
      "execution_count": 0,
      "outputs": [
        {
          "output_type": "stream",
          "text": [
            "pre-reshape:  [0 1 2 3 4 5 6 7 8 9]\n",
            "post-reshape: \n",
            " [[0 1]\n",
            " [2 3]\n",
            " [4 5]\n",
            " [6 7]\n",
            " [8 9]]\n",
            "p:  [[ 0  1  2  3]\n",
            " [ 4  5  6  7]\n",
            " [ 8  9 10 11]\n",
            " [12 13 14 15]\n",
            " [16 17 18 19]]\n",
            "pre:  [[  2   4   5]\n",
            " [ 99 109  23]]\n",
            "post:  [[  2   4]\n",
            " [  5  99]\n",
            " [109  23]]\n",
            "post:  [  2   4   5  99 109  23]\n"
          ],
          "name": "stdout"
        }
      ]
    },
    {
      "cell_type": "code",
      "metadata": {
        "id": "KLxsLdMkuAN2",
        "colab_type": "code",
        "outputId": "00b4ab69-9503-40a1-fa76-3924b5a46eab",
        "colab": {
          "base_uri": "https://localhost:8080/",
          "height": 34
        }
      },
      "source": [
        "X_train, y_train = load_mnist('', kind='train')\n",
        "print('Rows: %d, columns: %d' % (X_train.shape[0], X_train.shape[1]))"
      ],
      "execution_count": 0,
      "outputs": [
        {
          "output_type": "stream",
          "text": [
            "Rows: 60000, columns: 784\n"
          ],
          "name": "stdout"
        }
      ]
    },
    {
      "cell_type": "code",
      "metadata": {
        "id": "oGsgEqiPwxBe",
        "colab_type": "code",
        "outputId": "6c5df763-377c-4572-da24-695e3ad62b26",
        "colab": {
          "base_uri": "https://localhost:8080/",
          "height": 34
        }
      },
      "source": [
        "X_test, y_test = load_mnist('', kind='t10k')\n",
        "print('Rows: %d, columns: %d' % (X_test.shape[0], X_test.shape[1]))"
      ],
      "execution_count": 0,
      "outputs": [
        {
          "output_type": "stream",
          "text": [
            "Rows: 10000, columns: 784\n"
          ],
          "name": "stdout"
        }
      ]
    },
    {
      "cell_type": "markdown",
      "metadata": {
        "id": "sO8g_mRPx9l9",
        "colab_type": "text"
      },
      "source": [
        "### Visualize the first digit of each class: "
      ]
    },
    {
      "cell_type": "code",
      "metadata": {
        "id": "9Wvt26-GyBM1",
        "colab_type": "code",
        "outputId": "884aaca4-2941-41ca-e5a2-dc371bcd8b48",
        "colab": {
          "base_uri": "https://localhost:8080/",
          "height": 226
        }
      },
      "source": [
        "import matplotlib.pyplot as plt\n",
        "\n",
        "fig, ax = plt.subplots(nrows=2, ncols=5, sharex=True, sharey=True,)\n",
        "ax = ax.flatten()\n",
        "for i in range(10):\n",
        "    img = X_train[y_train == i][0].reshape(28, 28)\n",
        "    ax[i].imshow(img, cmap='Greys')\n",
        "\n",
        "ax[0].set_xticks([])\n",
        "ax[0].set_yticks([])\n",
        "plt.tight_layout()\n",
        "# plt.savefig('images/12_5.png', dpi=300)\n",
        "plt.show()"
      ],
      "execution_count": 0,
      "outputs": [
        {
          "output_type": "display_data",
          "data": {
            "image/png": "[encoded data removed]",
            "text/plain": [
              "<Figure size 432x288 with 10 Axes>"
            ]
          },
          "metadata": {
            "tags": []
          }
        }
      ]
    },
    {
      "cell_type": "code",
      "metadata": {
        "id": "0up_WVDnyDCO",
        "colab_type": "code",
        "outputId": "c66c0d70-7438-4f94-95d9-003d1291071f",
        "colab": {
          "base_uri": "https://localhost:8080/",
          "height": 297
        }
      },
      "source": [
        "fig, ax = plt.subplots(nrows=5, ncols=5, sharex=True, sharey=True,)\n",
        "ax = ax.flatten()\n",
        "for i in range(25):\n",
        "    img = X_train[y_train == 7][i].reshape(28, 28)\n",
        "    ax[i].imshow(img, cmap='Greys')\n",
        "\n",
        "ax[0].set_xticks([])\n",
        "ax[0].set_yticks([])\n",
        "plt.tight_layout()\n",
        "# plt.savefig('images/12_6.png', dpi=300)\n",
        "plt.show()"
      ],
      "execution_count": 0,
      "outputs": [
        {
          "output_type": "display_data",
          "data": {
            "image/png": "[encoded data removed]",
            "text/plain": [
              "<Figure size 432x288 with 25 Axes>"
            ]
          },
          "metadata": {
            "tags": []
          }
        }
      ]
    },
    {
      "cell_type": "code",
      "metadata": {
        "id": "CBfcwi6D4e8U",
        "colab_type": "code",
        "colab": {}
      },
      "source": [
        "import numpy as np\n",
        "\n",
        "np.savez_compressed('mnist_scaled.npz', \n",
        "                    X_train=X_train,\n",
        "                    y_train=y_train,\n",
        "                    X_test=X_test,\n",
        "                    y_test=y_test)"
      ],
      "execution_count": 0,
      "outputs": []
    },
    {
      "cell_type": "markdown",
      "metadata": {
        "id": "shBgqfaQ67Dq",
        "colab_type": "text"
      },
      "source": [
        "### Detour on some pandas concepts\n"
      ]
    },
    {
      "cell_type": "code",
      "metadata": {
        "id": "Kf3d3KjY7HVz",
        "colab_type": "code",
        "outputId": "5f142658-85f8-4dca-887d-a54a295b285d",
        "colab": {
          "base_uri": "https://localhost:8080/",
          "height": 941
        }
      },
      "source": [
        "import pandas as pd\n",
        "\n",
        "url = 'https://raw.githubusercontent.com/justmarkham/DAT8/master/data/chipotle.tsv'\n",
        "\n",
        "ch = pd.read_csv(url, sep = '\\t')\n",
        "\n",
        "ch.head(20)"
      ],
      "execution_count": 0,
      "outputs": [
        {
          "output_type": "execute_result",
          "data": {
            "text/html": [
              "<div>\n",
              "<style scoped>\n",
              "    .dataframe tbody tr th:only-of-type {\n",
              "        vertical-align: middle;\n",
              "    }\n",
              "\n",
              "    .dataframe tbody tr th {\n",
              "        vertical-align: top;\n",
              "    }\n",
              "\n",
              "    .dataframe thead th {\n",
              "        text-align: right;\n",
              "    }\n",
              "</style>\n",
              "<table border=\"1\" class=\"dataframe\">\n",
              "  <thead>\n",
              "    <tr style=\"text-align: right;\">\n",
              "      <th></th>\n",
              "      <th>order_id</th>\n",
              "      <th>quantity</th>\n",
              "      <th>item_name</th>\n",
              "      <th>choice_description</th>\n",
              "      <th>item_price</th>\n",
              "    </tr>\n",
              "  </thead>\n",
              "  <tbody>\n",
              "    <tr>\n",
              "      <th>0</th>\n",
              "      <td>1</td>\n",
              "      <td>1</td>\n",
              "      <td>Chips and Fresh Tomato Salsa</td>\n",
              "      <td>NaN</td>\n",
              "      <td>$2.39</td>\n",
              "    </tr>\n",
              "    <tr>\n",
              "      <th>1</th>\n",
              "      <td>1</td>\n",
              "      <td>1</td>\n",
              "      <td>Izze</td>\n",
              "      <td>[Clementine]</td>\n",
              "      <td>$3.39</td>\n",
              "    </tr>\n",
              "    <tr>\n",
              "      <th>2</th>\n",
              "      <td>1</td>\n",
              "      <td>1</td>\n",
              "      <td>Nantucket Nectar</td>\n",
              "      <td>[Apple]</td>\n",
              "      <td>$3.39</td>\n",
              "    </tr>\n",
              "    <tr>\n",
              "      <th>3</th>\n",
              "      <td>1</td>\n",
              "      <td>1</td>\n",
              "      <td>Chips and Tomatillo-Green Chili Salsa</td>\n",
              "      <td>NaN</td>\n",
              "      <td>$2.39</td>\n",
              "    </tr>\n",
              "    <tr>\n",
              "      <th>4</th>\n",
              "      <td>2</td>\n",
              "      <td>2</td>\n",
              "      <td>Chicken Bowl</td>\n",
              "      <td>[Tomatillo-Red Chili Salsa (Hot), [Black Beans...</td>\n",
              "      <td>$16.98</td>\n",
              "    </tr>\n",
              "    <tr>\n",
              "      <th>5</th>\n",
              "      <td>3</td>\n",
              "      <td>1</td>\n",
              "      <td>Chicken Bowl</td>\n",
              "      <td>[Fresh Tomato Salsa (Mild), [Rice, Cheese, Sou...</td>\n",
              "      <td>$10.98</td>\n",
              "    </tr>\n",
              "    <tr>\n",
              "      <th>6</th>\n",
              "      <td>3</td>\n",
              "      <td>1</td>\n",
              "      <td>Side of Chips</td>\n",
              "      <td>NaN</td>\n",
              "      <td>$1.69</td>\n",
              "    </tr>\n",
              "    <tr>\n",
              "      <th>7</th>\n",
              "      <td>4</td>\n",
              "      <td>1</td>\n",
              "      <td>Steak Burrito</td>\n",
              "      <td>[Tomatillo Red Chili Salsa, [Fajita Vegetables...</td>\n",
              "      <td>$11.75</td>\n",
              "    </tr>\n",
              "    <tr>\n",
              "      <th>8</th>\n",
              "      <td>4</td>\n",
              "      <td>1</td>\n",
              "      <td>Steak Soft Tacos</td>\n",
              "      <td>[Tomatillo Green Chili Salsa, [Pinto Beans, Ch...</td>\n",
              "      <td>$9.25</td>\n",
              "    </tr>\n",
              "    <tr>\n",
              "      <th>9</th>\n",
              "      <td>5</td>\n",
              "      <td>1</td>\n",
              "      <td>Steak Burrito</td>\n",
              "      <td>[Fresh Tomato Salsa, [Rice, Black Beans, Pinto...</td>\n",
              "      <td>$9.25</td>\n",
              "    </tr>\n",
              "    <tr>\n",
              "      <th>10</th>\n",
              "      <td>5</td>\n",
              "      <td>1</td>\n",
              "      <td>Chips and Guacamole</td>\n",
              "      <td>NaN</td>\n",
              "      <td>$4.45</td>\n",
              "    </tr>\n",
              "    <tr>\n",
              "      <th>11</th>\n",
              "      <td>6</td>\n",
              "      <td>1</td>\n",
              "      <td>Chicken Crispy Tacos</td>\n",
              "      <td>[Roasted Chili Corn Salsa, [Fajita Vegetables,...</td>\n",
              "      <td>$8.75</td>\n",
              "    </tr>\n",
              "    <tr>\n",
              "      <th>12</th>\n",
              "      <td>6</td>\n",
              "      <td>1</td>\n",
              "      <td>Chicken Soft Tacos</td>\n",
              "      <td>[Roasted Chili Corn Salsa, [Rice, Black Beans,...</td>\n",
              "      <td>$8.75</td>\n",
              "    </tr>\n",
              "    <tr>\n",
              "      <th>13</th>\n",
              "      <td>7</td>\n",
              "      <td>1</td>\n",
              "      <td>Chicken Bowl</td>\n",
              "      <td>[Fresh Tomato Salsa, [Fajita Vegetables, Rice,...</td>\n",
              "      <td>$11.25</td>\n",
              "    </tr>\n",
              "    <tr>\n",
              "      <th>14</th>\n",
              "      <td>7</td>\n",
              "      <td>1</td>\n",
              "      <td>Chips and Guacamole</td>\n",
              "      <td>NaN</td>\n",
              "      <td>$4.45</td>\n",
              "    </tr>\n",
              "    <tr>\n",
              "      <th>15</th>\n",
              "      <td>8</td>\n",
              "      <td>1</td>\n",
              "      <td>Chips and Tomatillo-Green Chili Salsa</td>\n",
              "      <td>NaN</td>\n",
              "      <td>$2.39</td>\n",
              "    </tr>\n",
              "    <tr>\n",
              "      <th>16</th>\n",
              "      <td>8</td>\n",
              "      <td>1</td>\n",
              "      <td>Chicken Burrito</td>\n",
              "      <td>[Tomatillo-Green Chili Salsa (Medium), [Pinto ...</td>\n",
              "      <td>$8.49</td>\n",
              "    </tr>\n",
              "    <tr>\n",
              "      <th>17</th>\n",
              "      <td>9</td>\n",
              "      <td>1</td>\n",
              "      <td>Chicken Burrito</td>\n",
              "      <td>[Fresh Tomato Salsa (Mild), [Black Beans, Rice...</td>\n",
              "      <td>$8.49</td>\n",
              "    </tr>\n",
              "    <tr>\n",
              "      <th>18</th>\n",
              "      <td>9</td>\n",
              "      <td>2</td>\n",
              "      <td>Canned Soda</td>\n",
              "      <td>[Sprite]</td>\n",
              "      <td>$2.18</td>\n",
              "    </tr>\n",
              "    <tr>\n",
              "      <th>19</th>\n",
              "      <td>10</td>\n",
              "      <td>1</td>\n",
              "      <td>Chicken Bowl</td>\n",
              "      <td>[Tomatillo Red Chili Salsa, [Fajita Vegetables...</td>\n",
              "      <td>$8.75</td>\n",
              "    </tr>\n",
              "  </tbody>\n",
              "</table>\n",
              "</div>"
            ],
            "text/plain": [
              "    order_id  ...  item_price\n",
              "0          1  ...      $2.39 \n",
              "1          1  ...      $3.39 \n",
              "2          1  ...      $3.39 \n",
              "3          1  ...      $2.39 \n",
              "4          2  ...     $16.98 \n",
              "5          3  ...     $10.98 \n",
              "6          3  ...      $1.69 \n",
              "7          4  ...     $11.75 \n",
              "8          4  ...      $9.25 \n",
              "9          5  ...      $9.25 \n",
              "10         5  ...      $4.45 \n",
              "11         6  ...      $8.75 \n",
              "12         6  ...      $8.75 \n",
              "13         7  ...     $11.25 \n",
              "14         7  ...      $4.45 \n",
              "15         8  ...      $2.39 \n",
              "16         8  ...      $8.49 \n",
              "17         9  ...      $8.49 \n",
              "18         9  ...      $2.18 \n",
              "19        10  ...      $8.75 \n",
              "\n",
              "[20 rows x 5 columns]"
            ]
          },
          "metadata": {
            "tags": []
          },
          "execution_count": 74
        }
      ]
    },
    {
      "cell_type": "code",
      "metadata": {
        "id": "oFGzQTqP7PQA",
        "colab_type": "code",
        "outputId": "dfe1bcb6-b9ad-46c6-b928-9b8830af0561",
        "colab": {
          "base_uri": "https://localhost:8080/",
          "height": 34
        }
      },
      "source": [
        "# shape[1] is the num of columns\n",
        "ch.shape[1]"
      ],
      "execution_count": 0,
      "outputs": [
        {
          "output_type": "execute_result",
          "data": {
            "text/plain": [
              "5"
            ]
          },
          "metadata": {
            "tags": []
          },
          "execution_count": 61
        }
      ]
    },
    {
      "cell_type": "code",
      "metadata": {
        "id": "KSPGPRJ97rZL",
        "colab_type": "code",
        "outputId": "0bd5e9d0-e6a3-4587-b8ce-f006031fa955",
        "colab": {
          "base_uri": "https://localhost:8080/",
          "height": 34
        }
      },
      "source": [
        "# shape[0] is the num of rows\n",
        "ch.shape[0]"
      ],
      "execution_count": 0,
      "outputs": [
        {
          "output_type": "execute_result",
          "data": {
            "text/plain": [
              "4622"
            ]
          },
          "metadata": {
            "tags": []
          },
          "execution_count": 60
        }
      ]
    },
    {
      "cell_type": "code",
      "metadata": {
        "id": "EwHxmLov7cw7",
        "colab_type": "code",
        "outputId": "35be9ec5-6636-4e56-9b26-9df27f2896ea",
        "colab": {
          "base_uri": "https://localhost:8080/",
          "height": 68
        }
      },
      "source": [
        "ch.columns"
      ],
      "execution_count": 0,
      "outputs": [
        {
          "output_type": "execute_result",
          "data": {
            "text/plain": [
              "Index(['order_id', 'quantity', 'item_name', 'choice_description',\n",
              "       'item_price'],\n",
              "      dtype='object')"
            ]
          },
          "metadata": {
            "tags": []
          },
          "execution_count": 62
        }
      ]
    },
    {
      "cell_type": "code",
      "metadata": {
        "id": "7hUa2_4Y8Avb",
        "colab_type": "code",
        "outputId": "468a72b4-0a77-471a-dc60-6e77c9fdd317",
        "colab": {
          "base_uri": "https://localhost:8080/",
          "height": 34
        }
      },
      "source": [
        "ch.index"
      ],
      "execution_count": 0,
      "outputs": [
        {
          "output_type": "execute_result",
          "data": {
            "text/plain": [
              "RangeIndex(start=0, stop=4622, step=1)"
            ]
          },
          "metadata": {
            "tags": []
          },
          "execution_count": 63
        }
      ]
    },
    {
      "cell_type": "code",
      "metadata": {
        "id": "TbJXPACV8ClL",
        "colab_type": "code",
        "outputId": "1c47f6a6-b60b-410e-9bf4-c475da5e8073",
        "colab": {
          "base_uri": "https://localhost:8080/",
          "height": 1000
        }
      },
      "source": [
        "# Sort by highest quantity of an item sold\n",
        "lar = lar.sort_values(['quantity'], ascending = False)\n",
        "lar"
      ],
      "execution_count": 0,
      "outputs": [
        {
          "output_type": "execute_result",
          "data": {
            "text/html": [
              "<div>\n",
              "<style scoped>\n",
              "    .dataframe tbody tr th:only-of-type {\n",
              "        vertical-align: middle;\n",
              "    }\n",
              "\n",
              "    .dataframe tbody tr th {\n",
              "        vertical-align: top;\n",
              "    }\n",
              "\n",
              "    .dataframe thead th {\n",
              "        text-align: right;\n",
              "    }\n",
              "</style>\n",
              "<table border=\"1\" class=\"dataframe\">\n",
              "  <thead>\n",
              "    <tr style=\"text-align: right;\">\n",
              "      <th></th>\n",
              "      <th>order_id</th>\n",
              "      <th>quantity</th>\n",
              "    </tr>\n",
              "    <tr>\n",
              "      <th>item_price</th>\n",
              "      <th></th>\n",
              "      <th></th>\n",
              "    </tr>\n",
              "  </thead>\n",
              "  <tbody>\n",
              "    <tr>\n",
              "      <th>$44.25</th>\n",
              "      <td>1443.000000</td>\n",
              "      <td>15.0</td>\n",
              "    </tr>\n",
              "    <tr>\n",
              "      <th>$15.00</th>\n",
              "      <td>1660.000000</td>\n",
              "      <td>10.0</td>\n",
              "    </tr>\n",
              "    <tr>\n",
              "      <th>$13.52</th>\n",
              "      <td>1559.000000</td>\n",
              "      <td>8.0</td>\n",
              "    </tr>\n",
              "    <tr>\n",
              "      <th>$10.50</th>\n",
              "      <td>1443.000000</td>\n",
              "      <td>7.0</td>\n",
              "    </tr>\n",
              "    <tr>\n",
              "      <th>$7.50</th>\n",
              "      <td>970.000000</td>\n",
              "      <td>5.0</td>\n",
              "    </tr>\n",
              "    <tr>\n",
              "      <th>$35.00</th>\n",
              "      <td>977.000000</td>\n",
              "      <td>4.0</td>\n",
              "    </tr>\n",
              "    <tr>\n",
              "      <th>$11.80</th>\n",
              "      <td>511.000000</td>\n",
              "      <td>4.0</td>\n",
              "    </tr>\n",
              "    <tr>\n",
              "      <th>$4.36</th>\n",
              "      <td>901.000000</td>\n",
              "      <td>4.0</td>\n",
              "    </tr>\n",
              "    <tr>\n",
              "      <th>$5.00</th>\n",
              "      <td>1721.333333</td>\n",
              "      <td>4.0</td>\n",
              "    </tr>\n",
              "    <tr>\n",
              "      <th>$17.80</th>\n",
              "      <td>1786.000000</td>\n",
              "      <td>4.0</td>\n",
              "    </tr>\n",
              "    <tr>\n",
              "      <th>$6.00</th>\n",
              "      <td>668.000000</td>\n",
              "      <td>4.0</td>\n",
              "    </tr>\n",
              "    <tr>\n",
              "      <th>$26.07</th>\n",
              "      <td>1336.000000</td>\n",
              "      <td>3.0</td>\n",
              "    </tr>\n",
              "    <tr>\n",
              "      <th>$3.27</th>\n",
              "      <td>729.500000</td>\n",
              "      <td>3.0</td>\n",
              "    </tr>\n",
              "    <tr>\n",
              "      <th>$27.75</th>\n",
              "      <td>977.000000</td>\n",
              "      <td>3.0</td>\n",
              "    </tr>\n",
              "    <tr>\n",
              "      <th>$26.25</th>\n",
              "      <td>1174.666667</td>\n",
              "      <td>3.0</td>\n",
              "    </tr>\n",
              "    <tr>\n",
              "      <th>$7.17</th>\n",
              "      <td>1245.500000</td>\n",
              "      <td>3.0</td>\n",
              "    </tr>\n",
              "    <tr>\n",
              "      <th>$4.50</th>\n",
              "      <td>1493.750000</td>\n",
              "      <td>3.0</td>\n",
              "    </tr>\n",
              "    <tr>\n",
              "      <th>$6.45</th>\n",
              "      <td>1167.000000</td>\n",
              "      <td>3.0</td>\n",
              "    </tr>\n",
              "    <tr>\n",
              "      <th>$3.75</th>\n",
              "      <td>823.714286</td>\n",
              "      <td>3.0</td>\n",
              "    </tr>\n",
              "    <tr>\n",
              "      <th>$5.07</th>\n",
              "      <td>1170.000000</td>\n",
              "      <td>3.0</td>\n",
              "    </tr>\n",
              "    <tr>\n",
              "      <th>$32.94</th>\n",
              "      <td>178.000000</td>\n",
              "      <td>3.0</td>\n",
              "    </tr>\n",
              "    <tr>\n",
              "      <th>$33.75</th>\n",
              "      <td>1443.000000</td>\n",
              "      <td>3.0</td>\n",
              "    </tr>\n",
              "    <tr>\n",
              "      <th>$35.25</th>\n",
              "      <td>1398.000000</td>\n",
              "      <td>3.0</td>\n",
              "    </tr>\n",
              "    <tr>\n",
              "      <th>$22.20</th>\n",
              "      <td>193.000000</td>\n",
              "      <td>3.0</td>\n",
              "    </tr>\n",
              "    <tr>\n",
              "      <th>$13.35</th>\n",
              "      <td>1051.000000</td>\n",
              "      <td>3.0</td>\n",
              "    </tr>\n",
              "    <tr>\n",
              "      <th>$16.98</th>\n",
              "      <td>1183.157895</td>\n",
              "      <td>2.0</td>\n",
              "    </tr>\n",
              "    <tr>\n",
              "      <th>$6.78</th>\n",
              "      <td>597.000000</td>\n",
              "      <td>2.0</td>\n",
              "    </tr>\n",
              "    <tr>\n",
              "      <th>$4.30</th>\n",
              "      <td>975.823529</td>\n",
              "      <td>2.0</td>\n",
              "    </tr>\n",
              "    <tr>\n",
              "      <th>$22.50</th>\n",
              "      <td>638.153846</td>\n",
              "      <td>2.0</td>\n",
              "    </tr>\n",
              "    <tr>\n",
              "      <th>$22.96</th>\n",
              "      <td>1175.000000</td>\n",
              "      <td>2.0</td>\n",
              "    </tr>\n",
              "    <tr>\n",
              "      <th>...</th>\n",
              "      <td>...</td>\n",
              "      <td>...</td>\n",
              "    </tr>\n",
              "    <tr>\n",
              "      <th>$1.99</th>\n",
              "      <td>1793.000000</td>\n",
              "      <td>1.0</td>\n",
              "    </tr>\n",
              "    <tr>\n",
              "      <th>$1.69</th>\n",
              "      <td>828.686869</td>\n",
              "      <td>1.0</td>\n",
              "    </tr>\n",
              "    <tr>\n",
              "      <th>$1.50</th>\n",
              "      <td>1118.427350</td>\n",
              "      <td>1.0</td>\n",
              "    </tr>\n",
              "    <tr>\n",
              "      <th>$4.00</th>\n",
              "      <td>427.000000</td>\n",
              "      <td>1.0</td>\n",
              "    </tr>\n",
              "    <tr>\n",
              "      <th>$1.09</th>\n",
              "      <td>798.735849</td>\n",
              "      <td>1.0</td>\n",
              "    </tr>\n",
              "    <tr>\n",
              "      <th>$8.49</th>\n",
              "      <td>816.681672</td>\n",
              "      <td>1.0</td>\n",
              "    </tr>\n",
              "    <tr>\n",
              "      <th>$9.25</th>\n",
              "      <td>920.844221</td>\n",
              "      <td>1.0</td>\n",
              "    </tr>\n",
              "    <tr>\n",
              "      <th>$8.99</th>\n",
              "      <td>759.418699</td>\n",
              "      <td>1.0</td>\n",
              "    </tr>\n",
              "    <tr>\n",
              "      <th>$6.49</th>\n",
              "      <td>961.547170</td>\n",
              "      <td>1.0</td>\n",
              "    </tr>\n",
              "    <tr>\n",
              "      <th>$8.75</th>\n",
              "      <td>970.200000</td>\n",
              "      <td>1.0</td>\n",
              "    </tr>\n",
              "    <tr>\n",
              "      <th>$8.69</th>\n",
              "      <td>1213.631579</td>\n",
              "      <td>1.0</td>\n",
              "    </tr>\n",
              "    <tr>\n",
              "      <th>$4.45</th>\n",
              "      <td>985.492837</td>\n",
              "      <td>1.0</td>\n",
              "    </tr>\n",
              "    <tr>\n",
              "      <th>$8.19</th>\n",
              "      <td>1319.142857</td>\n",
              "      <td>1.0</td>\n",
              "    </tr>\n",
              "    <tr>\n",
              "      <th>$10.58</th>\n",
              "      <td>742.200000</td>\n",
              "      <td>1.0</td>\n",
              "    </tr>\n",
              "    <tr>\n",
              "      <th>$2.95</th>\n",
              "      <td>920.804598</td>\n",
              "      <td>1.0</td>\n",
              "    </tr>\n",
              "    <tr>\n",
              "      <th>$11.08</th>\n",
              "      <td>694.200000</td>\n",
              "      <td>1.0</td>\n",
              "    </tr>\n",
              "    <tr>\n",
              "      <th>$3.99</th>\n",
              "      <td>780.122449</td>\n",
              "      <td>1.0</td>\n",
              "    </tr>\n",
              "    <tr>\n",
              "      <th>$10.98</th>\n",
              "      <td>765.444444</td>\n",
              "      <td>1.0</td>\n",
              "    </tr>\n",
              "    <tr>\n",
              "      <th>$3.39</th>\n",
              "      <td>693.488889</td>\n",
              "      <td>1.0</td>\n",
              "    </tr>\n",
              "    <tr>\n",
              "      <th>$1.25</th>\n",
              "      <td>1004.734848</td>\n",
              "      <td>1.0</td>\n",
              "    </tr>\n",
              "    <tr>\n",
              "      <th>$2.39</th>\n",
              "      <td>821.410000</td>\n",
              "      <td>1.0</td>\n",
              "    </tr>\n",
              "    <tr>\n",
              "      <th>$2.29</th>\n",
              "      <td>1023.666667</td>\n",
              "      <td>1.0</td>\n",
              "    </tr>\n",
              "    <tr>\n",
              "      <th>$3.89</th>\n",
              "      <td>998.833333</td>\n",
              "      <td>1.0</td>\n",
              "    </tr>\n",
              "    <tr>\n",
              "      <th>$11.89</th>\n",
              "      <td>947.038462</td>\n",
              "      <td>1.0</td>\n",
              "    </tr>\n",
              "    <tr>\n",
              "      <th>$11.75</th>\n",
              "      <td>946.781690</td>\n",
              "      <td>1.0</td>\n",
              "    </tr>\n",
              "    <tr>\n",
              "      <th>$11.49</th>\n",
              "      <td>1793.000000</td>\n",
              "      <td>1.0</td>\n",
              "    </tr>\n",
              "    <tr>\n",
              "      <th>$11.48</th>\n",
              "      <td>693.823529</td>\n",
              "      <td>1.0</td>\n",
              "    </tr>\n",
              "    <tr>\n",
              "      <th>$11.25</th>\n",
              "      <td>1002.928983</td>\n",
              "      <td>1.0</td>\n",
              "    </tr>\n",
              "    <tr>\n",
              "      <th>$2.15</th>\n",
              "      <td>981.536458</td>\n",
              "      <td>1.0</td>\n",
              "    </tr>\n",
              "    <tr>\n",
              "      <th>$9.39</th>\n",
              "      <td>1234.823529</td>\n",
              "      <td>1.0</td>\n",
              "    </tr>\n",
              "  </tbody>\n",
              "</table>\n",
              "<p>78 rows × 2 columns</p>\n",
              "</div>"
            ],
            "text/plain": [
              "               order_id  quantity\n",
              "item_price                       \n",
              "$44.25      1443.000000      15.0\n",
              "$15.00      1660.000000      10.0\n",
              "$13.52      1559.000000       8.0\n",
              "$10.50      1443.000000       7.0\n",
              "$7.50        970.000000       5.0\n",
              "$35.00       977.000000       4.0\n",
              "$11.80       511.000000       4.0\n",
              "$4.36        901.000000       4.0\n",
              "$5.00       1721.333333       4.0\n",
              "$17.80      1786.000000       4.0\n",
              "$6.00        668.000000       4.0\n",
              "$26.07      1336.000000       3.0\n",
              "$3.27        729.500000       3.0\n",
              "$27.75       977.000000       3.0\n",
              "$26.25      1174.666667       3.0\n",
              "$7.17       1245.500000       3.0\n",
              "$4.50       1493.750000       3.0\n",
              "$6.45       1167.000000       3.0\n",
              "$3.75        823.714286       3.0\n",
              "$5.07       1170.000000       3.0\n",
              "$32.94       178.000000       3.0\n",
              "$33.75      1443.000000       3.0\n",
              "$35.25      1398.000000       3.0\n",
              "$22.20       193.000000       3.0\n",
              "$13.35      1051.000000       3.0\n",
              "$16.98      1183.157895       2.0\n",
              "$6.78        597.000000       2.0\n",
              "$4.30        975.823529       2.0\n",
              "$22.50       638.153846       2.0\n",
              "$22.96      1175.000000       2.0\n",
              "...                 ...       ...\n",
              "$1.99       1793.000000       1.0\n",
              "$1.69        828.686869       1.0\n",
              "$1.50       1118.427350       1.0\n",
              "$4.00        427.000000       1.0\n",
              "$1.09        798.735849       1.0\n",
              "$8.49        816.681672       1.0\n",
              "$9.25        920.844221       1.0\n",
              "$8.99        759.418699       1.0\n",
              "$6.49        961.547170       1.0\n",
              "$8.75        970.200000       1.0\n",
              "$8.69       1213.631579       1.0\n",
              "$4.45        985.492837       1.0\n",
              "$8.19       1319.142857       1.0\n",
              "$10.58       742.200000       1.0\n",
              "$2.95        920.804598       1.0\n",
              "$11.08       694.200000       1.0\n",
              "$3.99        780.122449       1.0\n",
              "$10.98       765.444444       1.0\n",
              "$3.39        693.488889       1.0\n",
              "$1.25       1004.734848       1.0\n",
              "$2.39        821.410000       1.0\n",
              "$2.29       1023.666667       1.0\n",
              "$3.89        998.833333       1.0\n",
              "$11.89       947.038462       1.0\n",
              "$11.75       946.781690       1.0\n",
              "$11.49      1793.000000       1.0\n",
              "$11.48       693.823529       1.0\n",
              "$11.25      1002.928983       1.0\n",
              "$2.15        981.536458       1.0\n",
              "$9.39       1234.823529       1.0\n",
              "\n",
              "[78 rows x 2 columns]"
            ]
          },
          "metadata": {
            "tags": []
          },
          "execution_count": 85
        }
      ]
    },
    {
      "cell_type": "code",
      "metadata": {
        "id": "3Nj7OXEL8Us7",
        "colab_type": "code",
        "colab": {}
      },
      "source": [
        ""
      ],
      "execution_count": 0,
      "outputs": []
    }
  ]
}